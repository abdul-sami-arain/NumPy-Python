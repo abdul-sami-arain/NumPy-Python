{
 "cells": [
  {
   "cell_type": "code",
   "execution_count": 2,
   "id": "93cbc9c6",
   "metadata": {},
   "outputs": [],
   "source": [
    "import numpy as np"
   ]
  },
  {
   "cell_type": "markdown",
   "id": "1b396561",
   "metadata": {},
   "source": [
    "# Basic array operations:"
   ]
  },
  {
   "cell_type": "code",
   "execution_count": 3,
   "id": "4caf5b2a",
   "metadata": {},
   "outputs": [
    {
     "data": {
      "text/plain": [
       "array([2, 4, 5, 6, 7])"
      ]
     },
     "execution_count": 3,
     "metadata": {},
     "output_type": "execute_result"
    }
   ],
   "source": [
    "# add respective elements of two arrays:\n",
    "data1 = np.array([1,3,4,5,6])\n",
    "data2 = np.ones(5,dtype=int)\n",
    "data1+data2"
   ]
  },
  {
   "cell_type": "markdown",
   "id": "b24d05ac",
   "metadata": {},
   "source": [
    "# Broadcasting:"
   ]
  },
  {
   "cell_type": "markdown",
   "id": "3440fbba",
   "metadata": {},
   "source": [
    "```when we want to carryout operation between a single value(scalar) and an array (also called an operation between a vector and a scalar) or between arrays of two different sizes we use broadcasting methodology```<br>"
   ]
  },
  {
   "cell_type": "code",
   "execution_count": 4,
   "id": "4a677cba",
   "metadata": {},
   "outputs": [
    {
     "data": {
      "text/plain": [
       "array([ 6, 18, 24, 30, 36])"
      ]
     },
     "execution_count": 4,
     "metadata": {},
     "output_type": "execute_result"
    }
   ],
   "source": [
    "data1 = np.array([1,3,4,5,6])\n",
    "data1*6"
   ]
  },
  {
   "cell_type": "markdown",
   "id": "efc0b84f",
   "metadata": {},
   "source": [
    "# More useful array operations:"
   ]
  },
  {
   "cell_type": "code",
   "execution_count": 5,
   "id": "b1b1afc8",
   "metadata": {},
   "outputs": [
    {
     "name": "stdout",
     "output_type": "stream",
     "text": [
      "6\n",
      "1\n",
      "19\n"
     ]
    }
   ],
   "source": [
    "print(data1.max())\n",
    "print(data1.min())\n",
    "print(data1.sum())"
   ]
  },
  {
   "cell_type": "code",
   "execution_count": 6,
   "id": "1a7938ec",
   "metadata": {},
   "outputs": [],
   "source": [
    "a = np.array([[0.45053314, 0.17296777, 0.34376245, 0.5510652],\n",
    "              [0.54627315, 0.05093587, 0.40067661, 0.55645993],\n",
    "              [0.12697628, 0.82485143, 0.26590556, 0.56917101]])"
   ]
  },
  {
   "cell_type": "code",
   "execution_count": 8,
   "id": "e1b9291a",
   "metadata": {},
   "outputs": [
    {
     "data": {
      "text/plain": [
       "array([0.12697628, 0.05093587, 0.26590556, 0.5510652 ])"
      ]
     },
     "execution_count": 8,
     "metadata": {},
     "output_type": "execute_result"
    }
   ],
   "source": [
    "a.min(axis=0)"
   ]
  },
  {
   "cell_type": "code",
   "execution_count": 9,
   "id": "3c4faea1",
   "metadata": {},
   "outputs": [
    {
     "data": {
      "text/plain": [
       "array([0.17296777, 0.05093587, 0.12697628])"
      ]
     },
     "execution_count": 9,
     "metadata": {},
     "output_type": "execute_result"
    }
   ],
   "source": [
    "a.min(axis=1)"
   ]
  },
  {
   "cell_type": "markdown",
   "id": "a8f0c71e",
   "metadata": {},
   "source": [
    "# Creating matrices:"
   ]
  },
  {
   "cell_type": "code",
   "execution_count": 11,
   "id": "6707d195",
   "metadata": {},
   "outputs": [
    {
     "data": {
      "text/plain": [
       "array([[1, 2],\n",
       "       [3, 4],\n",
       "       [5, 6]])"
      ]
     },
     "execution_count": 11,
     "metadata": {},
     "output_type": "execute_result"
    }
   ],
   "source": [
    "matrix = np.array([[1,2],[3,4],[5,6]])\n",
    "matrix"
   ]
  },
  {
   "cell_type": "code",
   "execution_count": 14,
   "id": "a56c67f9",
   "metadata": {},
   "outputs": [
    {
     "data": {
      "text/plain": [
       "2"
      ]
     },
     "execution_count": 14,
     "metadata": {},
     "output_type": "execute_result"
    }
   ],
   "source": [
    "matrix.size\n",
    "matrix.shape\n",
    "matrix.ndim"
   ]
  },
  {
   "cell_type": "markdown",
   "id": "c1ce0968",
   "metadata": {},
   "source": [
    "# Generating random numbers:"
   ]
  },
  {
   "cell_type": "code",
   "execution_count": 18,
   "id": "70d60b56",
   "metadata": {},
   "outputs": [],
   "source": [
    "from numpy.random import default_rng\n",
    "rng = default_rng()\n",
    "vals = rng.standard_normal(10)\n",
    "more_vals = rng.standard_normal(10)"
   ]
  },
  {
   "cell_type": "code",
   "execution_count": 19,
   "id": "d8c5a6fe",
   "metadata": {},
   "outputs": [
    {
     "data": {
      "text/plain": [
       "array([-0.49694515,  0.61600937, -0.77814185, -0.15542642, -0.00111032,\n",
       "        0.19894898,  0.33138266, -0.03771488, -0.60977665, -0.05595024])"
      ]
     },
     "execution_count": 19,
     "metadata": {},
     "output_type": "execute_result"
    }
   ],
   "source": [
    "vals"
   ]
  },
  {
   "cell_type": "code",
   "execution_count": 20,
   "id": "74c82fed",
   "metadata": {},
   "outputs": [
    {
     "data": {
      "text/plain": [
       "array([-0.74276057,  2.0725138 , -0.62990119,  0.56894849,  0.68764313,\n",
       "       -0.22721   , -0.57574257,  0.20753625,  0.4972276 , -0.49579232])"
      ]
     },
     "execution_count": 20,
     "metadata": {},
     "output_type": "execute_result"
    }
   ],
   "source": [
    "more_vals"
   ]
  },
  {
   "cell_type": "markdown",
   "id": "a4a1ee17",
   "metadata": {},
   "source": [
    "# Get unique items and counts"
   ]
  },
  {
   "cell_type": "code",
   "execution_count": 21,
   "id": "44547de3",
   "metadata": {},
   "outputs": [
    {
     "name": "stdout",
     "output_type": "stream",
     "text": [
      "[12 23 34 43 54]\n"
     ]
    }
   ],
   "source": [
    "array1=np.array([12,12,23,43,34,54,43,23])\n",
    "print(np.unique(array1))"
   ]
  },
  {
   "cell_type": "code",
   "execution_count": 22,
   "id": "b4eb49b9",
   "metadata": {},
   "outputs": [
    {
     "name": "stdout",
     "output_type": "stream",
     "text": [
      "(array([12, 23, 34, 43, 54]), array([0, 2, 4, 3, 5], dtype=int64))\n"
     ]
    }
   ],
   "source": [
    "array1=np.array([12,12,23,43,34,54,43,23])\n",
    "print(np.unique(array1,return_index=True))"
   ]
  },
  {
   "cell_type": "code",
   "execution_count": 23,
   "id": "6056af9d",
   "metadata": {},
   "outputs": [
    {
     "name": "stdout",
     "output_type": "stream",
     "text": [
      "(array([12, 23, 34, 43, 54]), array([2, 2, 1, 2, 1], dtype=int64))\n"
     ]
    }
   ],
   "source": [
    "array1=np.array([12,12,23,43,34,54,43,23])\n",
    "print(np.unique(array1,return_counts=True))"
   ]
  },
  {
   "cell_type": "markdown",
   "id": "1634a451",
   "metadata": {},
   "source": [
    "# Transponse :"
   ]
  },
  {
   "cell_type": "code",
   "execution_count": 24,
   "id": "72039ee9",
   "metadata": {},
   "outputs": [
    {
     "data": {
      "text/plain": [
       "array([[1, 3, 5],\n",
       "       [2, 4, 6]])"
      ]
     },
     "execution_count": 24,
     "metadata": {},
     "output_type": "execute_result"
    }
   ],
   "source": [
    "matrix.transpose()"
   ]
  },
  {
   "cell_type": "markdown",
   "id": "1cf17ed9",
   "metadata": {},
   "source": [
    "# Reverse an array"
   ]
  },
  {
   "cell_type": "markdown",
   "id": "c99ab098",
   "metadata": {},
   "source": [
    "Reversing a 1D array:"
   ]
  },
  {
   "cell_type": "code",
   "execution_count": 25,
   "id": "c64801c4",
   "metadata": {},
   "outputs": [
    {
     "name": "stdout",
     "output_type": "stream",
     "text": [
      "1D array --> [0 1 2 3 4 5 6]\n",
      "1D Reversed_array --> [6 5 4 3 2 1 0]\n"
     ]
    }
   ],
   "source": [
    "array1 = np.array([0,1,2,3,4,5,6])\n",
    "reversed_array1 = np.flip(array1)\n",
    "print(\"1D array -->\",array1)\n",
    "print(\"1D Reversed_array -->\",reversed_array1)"
   ]
  },
  {
   "cell_type": "markdown",
   "id": "380a79ef",
   "metadata": {},
   "source": [
    "Reversing a 2D array:"
   ]
  },
  {
   "cell_type": "code",
   "execution_count": 26,
   "id": "e07057e8",
   "metadata": {},
   "outputs": [
    {
     "name": "stdout",
     "output_type": "stream",
     "text": [
      "1D array --> [[1 2]\n",
      " [3 4]\n",
      " [5 6]]\n",
      "1D Reversed_array --> [[6 5]\n",
      " [4 3]\n",
      " [2 1]]\n"
     ]
    }
   ],
   "source": [
    "array2 = np.array([[1,2],[3,4],[5,6]])\n",
    "reversed_array2 = np.flip(array2)\n",
    "print(\"1D array -->\",array2)\n",
    "print(\"1D Reversed_array -->\",reversed_array2)"
   ]
  },
  {
   "cell_type": "code",
   "execution_count": 29,
   "id": "6e692ea6",
   "metadata": {},
   "outputs": [
    {
     "name": "stdout",
     "output_type": "stream",
     "text": [
      "1D array --> [[1 2]\n",
      " [3 4]\n",
      " [5 6]]\n",
      "1D Reversed_array --> [[5 6]\n",
      " [3 4]\n",
      " [1 2]]\n"
     ]
    }
   ],
   "source": [
    "array2 = np.array([[1,2],[3,4],[5,6]])\n",
    "reversed_array2 = np.flip(array2,axis=0)\n",
    "print(\"1D array -->\",array2)\n",
    "print(\"1D Reversed_array -->\",reversed_array2)"
   ]
  },
  {
   "cell_type": "code",
   "execution_count": 30,
   "id": "03fc1224",
   "metadata": {},
   "outputs": [
    {
     "name": "stdout",
     "output_type": "stream",
     "text": [
      "1D array --> [[1 2]\n",
      " [3 4]\n",
      " [5 6]]\n",
      "1D Reversed_array --> [[2 1]\n",
      " [4 3]\n",
      " [6 5]]\n"
     ]
    }
   ],
   "source": [
    "array2 = np.array([[1,2],[3,4],[5,6]])\n",
    "reversed_array2 = np.flip(array2,axis=1)\n",
    "print(\"1D array -->\",array2)\n",
    "print(\"1D Reversed_array -->\",reversed_array2)"
   ]
  },
  {
   "cell_type": "markdown",
   "id": "04733708",
   "metadata": {},
   "source": [
    "# Reshaping and flattening multidimensional arrays:"
   ]
  },
  {
   "cell_type": "markdown",
   "id": "db8dc637",
   "metadata": {},
   "source": [
    "```There are two ways to make an array flatten```<br>\n",
    "- ```.flatten()```<br>\n",
    "- ```.ravel()```<br>\n",
    "```the main difference between flatten & ravel is that .flatten() is works on the phenomenon of Deep copy while .ravel() works on the phenomenon of Shallow copy ```"
   ]
  },
  {
   "cell_type": "code",
   "execution_count": 42,
   "id": "bf113cce",
   "metadata": {},
   "outputs": [],
   "source": [
    "array1 = np.array([[1,2,7],[3,4,8],[5,6,9]])\n",
    "array2 = array1.flatten()\n"
   ]
  },
  {
   "cell_type": "code",
   "execution_count": 43,
   "id": "60f2f821",
   "metadata": {},
   "outputs": [],
   "source": [
    "array1[0]=[4,5,6]"
   ]
  },
  {
   "cell_type": "code",
   "execution_count": 45,
   "id": "587196f8",
   "metadata": {},
   "outputs": [
    {
     "data": {
      "text/plain": [
       "array([[4, 5, 6],\n",
       "       [3, 4, 8],\n",
       "       [5, 6, 9]])"
      ]
     },
     "execution_count": 45,
     "metadata": {},
     "output_type": "execute_result"
    }
   ],
   "source": [
    "array1"
   ]
  },
  {
   "cell_type": "code",
   "execution_count": 46,
   "id": "1b4cb3fa",
   "metadata": {},
   "outputs": [
    {
     "data": {
      "text/plain": [
       "array([1, 2, 7, 3, 4, 8, 5, 6, 9])"
      ]
     },
     "execution_count": 46,
     "metadata": {},
     "output_type": "execute_result"
    }
   ],
   "source": [
    "array2 ## deep copy"
   ]
  },
  {
   "cell_type": "code",
   "execution_count": 37,
   "id": "a0bafa84",
   "metadata": {},
   "outputs": [],
   "source": [
    "array1 = np.array([[1,2,7],[3,4,8],[5,6,9]])\n",
    "array2 = array1.ravel()"
   ]
  },
  {
   "cell_type": "code",
   "execution_count": 38,
   "id": "3f7f7b5b",
   "metadata": {},
   "outputs": [],
   "source": [
    "array1[0]=[4,5,6]"
   ]
  },
  {
   "cell_type": "code",
   "execution_count": 39,
   "id": "55f94aee",
   "metadata": {},
   "outputs": [
    {
     "data": {
      "text/plain": [
       "array([[4, 5, 6],\n",
       "       [3, 4, 8],\n",
       "       [5, 6, 9]])"
      ]
     },
     "execution_count": 39,
     "metadata": {},
     "output_type": "execute_result"
    }
   ],
   "source": [
    "array1"
   ]
  },
  {
   "cell_type": "code",
   "execution_count": 40,
   "id": "398d75ff",
   "metadata": {},
   "outputs": [
    {
     "data": {
      "text/plain": [
       "array([4, 5, 6, 3, 4, 8, 5, 6, 9])"
      ]
     },
     "execution_count": 40,
     "metadata": {},
     "output_type": "execute_result"
    }
   ],
   "source": [
    "array2 ##shallow copy"
   ]
  },
  {
   "cell_type": "code",
   "execution_count": null,
   "id": "f3acb7b8",
   "metadata": {},
   "outputs": [],
   "source": []
  }
 ],
 "metadata": {
  "kernelspec": {
   "display_name": "Python 3 (ipykernel)",
   "language": "python",
   "name": "python3"
  },
  "language_info": {
   "codemirror_mode": {
    "name": "ipython",
    "version": 3
   },
   "file_extension": ".py",
   "mimetype": "text/x-python",
   "name": "python",
   "nbconvert_exporter": "python",
   "pygments_lexer": "ipython3",
   "version": "3.9.12"
  }
 },
 "nbformat": 4,
 "nbformat_minor": 5
}
