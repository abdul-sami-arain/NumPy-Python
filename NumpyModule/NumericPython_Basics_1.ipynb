{
 "cells": [
  {
   "cell_type": "code",
   "execution_count": 1,
   "id": "618c9060",
   "metadata": {},
   "outputs": [
    {
     "name": "stdout",
     "output_type": "stream",
     "text": [
      "Requirement already satisfied: Numpy in c:\\users\\windows\\anaconda3\\lib\\site-packages (1.21.5)\n"
     ]
    }
   ],
   "source": [
    "!pip install Numpy"
   ]
  },
  {
   "cell_type": "code",
   "execution_count": 2,
   "id": "7afdb8a0",
   "metadata": {},
   "outputs": [],
   "source": [
    "import numpy as np"
   ]
  },
  {
   "cell_type": "code",
   "execution_count": 9,
   "id": "84285066",
   "metadata": {},
   "outputs": [
    {
     "data": {
      "text/plain": [
       "'1.21.5'"
      ]
     },
     "execution_count": 9,
     "metadata": {},
     "output_type": "execute_result"
    }
   ],
   "source": [
    "np.__version__ "
   ]
  },
  {
   "cell_type": "markdown",
   "id": "bde05cac",
   "metadata": {},
   "source": [
    "#  NUMPY ARRAYS:"
   ]
  },
  {
   "cell_type": "markdown",
   "id": "eb7f9ee0",
   "metadata": {},
   "source": [
    "-  ``` An array is a central data structure of the NumPy library ```<br>\n",
    "- ``` Central data structure means a data repository which is responsible for providing permanent data storage ``` <br>\n",
    "-  ``` An array is a grid of values and it contains information about the raw data ```<br>\n",
    "- ``` The elements of an array are all of the same data type ``` <br>\n",
    "-  ``` An array can be indexed by a tuple of nonnegative integers, by booleans, by another array, or by integers.  ```<br>\n",
    "-  <b>```rank```</b>```the number of dimensions of an array ``` <br>\n",
    "-  <b>```shape```</b>```The shape of the array is a tuple of integers giving the size of the array along each dimension.``` <br>\n",
    "-  <b>```ndarray```</b>```An N-dimensional array is simply an array with any number of dimensions. 1-D,2-D etc``` <br>\n",
    "-  <b>```vector```</b>```A vector is an array with a single dimension ``` <br>\n",
    "-  <b>```matrix```</b>```a matrix refers to an array with two dimensions.``` <br>\n",
    "-  <b>```tensor```</b>``` 3-D or higher dimensional arrays``` <br>"
   ]
  },
  {
   "cell_type": "markdown",
   "id": "ed163bbb",
   "metadata": {},
   "source": [
    "##  ATTRIBUTES OF NUMPY ARRAYS:"
   ]
  },
  {
   "cell_type": "markdown",
   "id": "036571d4",
   "metadata": {},
   "source": [
    "-  ``` An array is usually a fixed-size container of items of the same type and size.  ```<br>\n",
    "-  ``` The number of dimensions and items in an array is defined by its shape. ```<br>\n",
    "-  ``` Dimensions are called axes. ```<br>"
   ]
  },
  {
   "cell_type": "markdown",
   "id": "02354a03",
   "metadata": {},
   "source": [
    "## FUNCTIONS FOR INITIALIZATION OF  AN ARRAY:"
   ]
  },
  {
   "cell_type": "markdown",
   "id": "3ad4d21d",
   "metadata": {},
   "source": [
    "-  <b>```np.array()```</b>```To create a NumPy array, we can use the function np.array(). ``` <br>\n",
    "-  <b>```np.zeros()```</b>```To create a NumPy array filled with zeros, we can use the function np.zeros().``` <br>\n",
    "-  <b>```np.ones()```</b>``` To create a NumPy array filled with zeros, we can use the function np.ones().``` <br>\n",
    "-  <b>```np.empty()```</b>```The function empty creates an array whose initial content is random and depends on the state of the memory.  ``` <br>\n",
    "-  <b>```np.arange()```</b>```We can create an array with a range of elements.``` <br>\n",
    "-  <b>```np.linspace()```</b>```You can also use np.linspace() to create an array with values that are spaced linearly in a specified interval``` <br>"
   ]
  },
  {
   "cell_type": "markdown",
   "id": "f39aae05",
   "metadata": {},
   "source": [
    "### np.array()"
   ]
  },
  {
   "cell_type": "code",
   "execution_count": 14,
   "id": "baf5ddc6",
   "metadata": {},
   "outputs": [
    {
     "name": "stdout",
     "output_type": "stream",
     "text": [
      "[1 2 3 4 5]\n",
      "[[ 1  2  3  4  5]\n",
      " [ 6  7  8  9 10]]\n"
     ]
    }
   ],
   "source": [
    "a = np.array([1,2,3,4,5]) # creating an array using python list\n",
    "print(a)\n",
    "b = np.array([[1,2,3,4,5],[6,7,8,9,10]]) # creating an array using python list of list\n",
    "print(b)"
   ]
  },
  {
   "cell_type": "markdown",
   "id": "9848faff",
   "metadata": {},
   "source": [
    "### np.zeros()"
   ]
  },
  {
   "cell_type": "code",
   "execution_count": 17,
   "id": "3786bba0",
   "metadata": {},
   "outputs": [
    {
     "name": "stdout",
     "output_type": "stream",
     "text": [
      "[0. 0.]\n",
      "[0. 0. 0. 0.]\n"
     ]
    }
   ],
   "source": [
    "a = np.zeros(2)\n",
    "print(a)\n",
    "a = np.zeros(4)\n",
    "print(a)"
   ]
  },
  {
   "cell_type": "markdown",
   "id": "7d382a65",
   "metadata": {},
   "source": [
    "### np.ones()"
   ]
  },
  {
   "cell_type": "code",
   "execution_count": 21,
   "id": "706903e6",
   "metadata": {},
   "outputs": [
    {
     "name": "stdout",
     "output_type": "stream",
     "text": [
      "[1. 1. 1. 1. 1. 1. 1.]\n",
      "[1. 1. 1. 1.]\n"
     ]
    }
   ],
   "source": [
    "a = np.ones(7)\n",
    "print(a)\n",
    "a = np.ones(4)\n",
    "print(a)"
   ]
  },
  {
   "cell_type": "markdown",
   "id": "b27b1c43",
   "metadata": {},
   "source": [
    "### np.empty()"
   ]
  },
  {
   "cell_type": "code",
   "execution_count": 23,
   "id": "47d4a6eb",
   "metadata": {},
   "outputs": [
    {
     "name": "stdout",
     "output_type": "stream",
     "text": [
      "[1. 1. 1. 1. 1. 1. 1.]\n",
      "[1. 1. 1. 1.]\n"
     ]
    }
   ],
   "source": [
    "c = np.empty(7)\n",
    "print(c)\n",
    "c = np.empty(4)\n",
    "print(c)"
   ]
  },
  {
   "cell_type": "markdown",
   "id": "ac6ee5be",
   "metadata": {},
   "source": [
    "### np.linspace()\n"
   ]
  },
  {
   "cell_type": "code",
   "execution_count": 24,
   "id": "c8c96d5a",
   "metadata": {},
   "outputs": [
    {
     "name": "stdout",
     "output_type": "stream",
     "text": [
      "[ 0.   2.5  5.   7.5 10. ]\n"
     ]
    }
   ],
   "source": [
    "d = np.linspace(0,10, num=5)  # generate array of 5 elements with equal difference \n",
    "print(d)"
   ]
  },
  {
   "cell_type": "markdown",
   "id": "29882ce5",
   "metadata": {},
   "source": [
    "### Specifying your data type:\n"
   ]
  },
  {
   "cell_type": "code",
   "execution_count": 25,
   "id": "1ac6658f",
   "metadata": {},
   "outputs": [
    {
     "data": {
      "text/plain": [
       "array([1, 1, 1, 1, 1], dtype=int64)"
      ]
     },
     "execution_count": 25,
     "metadata": {},
     "output_type": "execute_result"
    }
   ],
   "source": [
    "e = np.ones(5,dtype=np.int64)\n",
    "e"
   ]
  },
  {
   "cell_type": "markdown",
   "id": "6a3d1700",
   "metadata": {},
   "source": [
    "## ADDING, REMOVING, SORTING:"
   ]
  },
  {
   "cell_type": "code",
   "execution_count": 4,
   "id": "4d01e30f",
   "metadata": {},
   "outputs": [
    {
     "data": {
      "text/plain": [
       "array([0, 1, 1, 2, 2, 3, 4, 5, 9])"
      ]
     },
     "execution_count": 4,
     "metadata": {},
     "output_type": "execute_result"
    }
   ],
   "source": [
    "array1 = np.array([2,4,1,9,5,3,0,2,1])\n",
    "sorted_array1 = np.sort(array1)\n",
    "sorted_array1"
   ]
  },
  {
   "cell_type": "code",
   "execution_count": 8,
   "id": "a28510c7",
   "metadata": {},
   "outputs": [
    {
     "data": {
      "text/plain": [
       "array([[2, 5, 7],\n",
       "       [1, 3, 4]])"
      ]
     },
     "execution_count": 8,
     "metadata": {},
     "output_type": "execute_result"
    }
   ],
   "source": [
    "array2 = np.array([[7,2,5],[1,4,3]])\n",
    "sorted_array2 = np.sort(array2) # sort along the last axis OR row wise sorting\n",
    "sorted_array2"
   ]
  },
  {
   "cell_type": "code",
   "execution_count": 10,
   "id": "dc05ced2",
   "metadata": {},
   "outputs": [
    {
     "data": {
      "text/plain": [
       "array([1, 2, 3, 4, 5, 7])"
      ]
     },
     "execution_count": 10,
     "metadata": {},
     "output_type": "execute_result"
    }
   ],
   "source": [
    "array3 = np.array([[7,2,5],[1,4,3]])\n",
    "sorted_array3 = np.sort(array3,axis=None) # sort the flattened array OR sorting array in one dimension\n",
    "sorted_array3"
   ]
  },
  {
   "cell_type": "code",
   "execution_count": 13,
   "id": "c8b7dba5",
   "metadata": {},
   "outputs": [
    {
     "data": {
      "text/plain": [
       "array([[1, 2, 3],\n",
       "       [7, 4, 5]])"
      ]
     },
     "execution_count": 13,
     "metadata": {},
     "output_type": "execute_result"
    }
   ],
   "source": [
    "array4 = np.array([[7,2,5],[1,4,3]])\n",
    "sorted_array4 = np.sort(array4 , axis = 0)  # sort along the first axis OR column wise sorting\n",
    "sorted_array4"
   ]
  },
  {
   "cell_type": "markdown",
   "id": "31ae4599",
   "metadata": {},
   "source": [
    "```There are 4 types of additional sortings in Numpy on an array:```<br>\n",
    "- ```argsort```<br>\n",
    "- ```lexsort```<br>\n",
    "- ```searchsort```<br>\n",
    "- ```partioningsort```<br>\n",
    "\n"
   ]
  },
  {
   "cell_type": "markdown",
   "id": "4e9448fe",
   "metadata": {},
   "source": [
    "### np.concatenate()"
   ]
  },
  {
   "cell_type": "code",
   "execution_count": 15,
   "id": "db8b4e69",
   "metadata": {},
   "outputs": [
    {
     "data": {
      "text/plain": [
       "array([ 1,  3,  5,  7,  9,  2,  4,  6,  8, 10])"
      ]
     },
     "execution_count": 15,
     "metadata": {},
     "output_type": "execute_result"
    }
   ],
   "source": [
    "array1 = np.array([1,3,5,7,9])\n",
    "array2 = np.array([2,4,6,8,10])\n",
    "concatinated_array = np.concatenate((array1,array2))\n",
    "concatinated_array"
   ]
  },
  {
   "cell_type": "code",
   "execution_count": 20,
   "id": "176425f1",
   "metadata": {},
   "outputs": [
    {
     "data": {
      "text/plain": [
       "array([[ 1,  3,  5,  7,  9],\n",
       "       [ 2,  4,  6,  8, 10],\n",
       "       [11, 13, 15, 17, 19]])"
      ]
     },
     "execution_count": 20,
     "metadata": {},
     "output_type": "execute_result"
    }
   ],
   "source": [
    "array1 = np.array([[1,3,5,7,9]])\n",
    "array2 = np.array([[2,4,6,8,10],[11,13,15,17,19]])\n",
    "concatinated_array = np.concatenate((array1,array2),axis=0)\n",
    "concatinated_array"
   ]
  },
  {
   "cell_type": "markdown",
   "id": "4dbc6b82",
   "metadata": {},
   "source": [
    "### np.delete(array,index)"
   ]
  },
  {
   "cell_type": "code",
   "execution_count": 21,
   "id": "9ddc3d79",
   "metadata": {},
   "outputs": [
    {
     "data": {
      "text/plain": [
       "array([1, 2, 3, 4, 5, 6, 7, 8])"
      ]
     },
     "execution_count": 21,
     "metadata": {},
     "output_type": "execute_result"
    }
   ],
   "source": [
    "array1 = np.array([1,2,3,4,5,6,7,8,9])\n",
    "np.delete(array1,8)"
   ]
  },
  {
   "cell_type": "code",
   "execution_count": 22,
   "id": "4405aa82",
   "metadata": {},
   "outputs": [
    {
     "name": "stdout",
     "output_type": "stream",
     "text": [
      "[1 2 5 6 8 9]\n"
     ]
    }
   ],
   "source": [
    "a = np.array([1, 2, 3, 4, 5, 6, 7, 8, 9])\n",
    "index = [2, 3, 6]\n",
    "\n",
    "new_a = np.delete(a, index)\n",
    "\n",
    "print(new_a)"
   ]
  },
  {
   "cell_type": "markdown",
   "id": "9936a9d6",
   "metadata": {},
   "source": [
    "-  <b>```ndarray.ndim()```</b>```It tells us the axes and dimensions of an array. ``` <br>\n",
    "-  <b>```ndarray.size()```</b>```It tells us the total elements in an array.``` <br>\n",
    "-  <b>```ndarray.shape()```</b>```It tells the no. of rows and columns in an array.``` <br>"
   ]
  },
  {
   "cell_type": "code",
   "execution_count": 23,
   "id": "a47d0f4b",
   "metadata": {},
   "outputs": [
    {
     "data": {
      "text/plain": [
       "array([[[ 1,  2,  3],\n",
       "        [ 4,  5,  6]],\n",
       "\n",
       "       [[ 7,  8,  9],\n",
       "        [10, 11, 12]],\n",
       "\n",
       "       [[13, 14, 15],\n",
       "        [16, 17, 18]]])"
      ]
     },
     "execution_count": 23,
     "metadata": {},
     "output_type": "execute_result"
    }
   ],
   "source": [
    "array1 = np.array(\n",
    "    [[[1,2,3],[4,5,6]],\n",
    "    [[7,8,9],[10,11,12]],\n",
    "    [[13,14,15],[16,17,18]]]\n",
    ")\n",
    "array1"
   ]
  },
  {
   "cell_type": "code",
   "execution_count": 24,
   "id": "b6c45e3f",
   "metadata": {},
   "outputs": [
    {
     "data": {
      "text/plain": [
       "3"
      ]
     },
     "execution_count": 24,
     "metadata": {},
     "output_type": "execute_result"
    }
   ],
   "source": [
    "array1.ndim"
   ]
  },
  {
   "cell_type": "code",
   "execution_count": 25,
   "id": "3fd612ec",
   "metadata": {},
   "outputs": [
    {
     "data": {
      "text/plain": [
       "18"
      ]
     },
     "execution_count": 25,
     "metadata": {},
     "output_type": "execute_result"
    }
   ],
   "source": [
    "array1.size"
   ]
  },
  {
   "cell_type": "code",
   "execution_count": 26,
   "id": "c47da7c7",
   "metadata": {},
   "outputs": [
    {
     "data": {
      "text/plain": [
       "(3, 2, 3)"
      ]
     },
     "execution_count": 26,
     "metadata": {},
     "output_type": "execute_result"
    }
   ],
   "source": [
    "array1.shape"
   ]
  },
  {
   "cell_type": "markdown",
   "id": "6c551531",
   "metadata": {},
   "source": [
    "``` we can reshape an array by using ndarray.reshape()```<br>\n",
    "```ndarray.reshape()```<br>\n",
    "<b>```reshape(arrayName , newshape=(rows,columns) , order='C OR F OR A' )```</b><br>\n",
    "<b>```C```</b>```means to read/write the elements using C-like index order```<br>\n",
    "<b>```F```</b>``` means to read/write the elements using Fortran-like index order```<br>\n",
    "<b>```A```</b>``` means to read/write the elements in Fortran-like index order if a is Fortran contiguous in memory, C-like order otherwise.```<br>"
   ]
  },
  {
   "cell_type": "markdown",
   "id": "8b4dd87f",
   "metadata": {},
   "source": [
    "### np.reshape():"
   ]
  },
  {
   "cell_type": "code",
   "execution_count": 27,
   "id": "087b89d1",
   "metadata": {},
   "outputs": [
    {
     "data": {
      "text/plain": [
       "array([[[ 1,  2,  3],\n",
       "        [ 4,  5,  6]],\n",
       "\n",
       "       [[ 7,  8,  9],\n",
       "        [10, 11, 12]],\n",
       "\n",
       "       [[13, 14, 15],\n",
       "        [16, 17, 18]]])"
      ]
     },
     "execution_count": 27,
     "metadata": {},
     "output_type": "execute_result"
    }
   ],
   "source": [
    "array1"
   ]
  },
  {
   "cell_type": "code",
   "execution_count": 30,
   "id": "cb73f968",
   "metadata": {},
   "outputs": [
    {
     "data": {
      "text/plain": [
       "array([[[ 1],\n",
       "        [ 2]],\n",
       "\n",
       "       [[ 3],\n",
       "        [ 4]],\n",
       "\n",
       "       [[ 5],\n",
       "        [ 6]],\n",
       "\n",
       "       [[ 7],\n",
       "        [ 8]],\n",
       "\n",
       "       [[ 9],\n",
       "        [10]],\n",
       "\n",
       "       [[11],\n",
       "        [12]],\n",
       "\n",
       "       [[13],\n",
       "        [14]],\n",
       "\n",
       "       [[15],\n",
       "        [16]],\n",
       "\n",
       "       [[17],\n",
       "        [18]]])"
      ]
     },
     "execution_count": 30,
     "metadata": {},
     "output_type": "execute_result"
    }
   ],
   "source": [
    "np.reshape(array1,newshape=(9,2,1),order='C')"
   ]
  },
  {
   "cell_type": "markdown",
   "id": "20e18ed9",
   "metadata": {},
   "source": [
    "## How to convert a 1D array into a 2D array (how to add a new axis to an array): \n",
    "- ```[np.newaxis,:]```\n",
    "- ```[:,np.newaxis]```\n",
    "- ```np.expand_dims()```"
   ]
  },
  {
   "cell_type": "code",
   "execution_count": 33,
   "id": "cf7cee6f",
   "metadata": {},
   "outputs": [
    {
     "data": {
      "text/plain": [
       "(10,)"
      ]
     },
     "execution_count": 33,
     "metadata": {},
     "output_type": "execute_result"
    }
   ],
   "source": [
    "a = np.arange(0,10)# it have 10 rows and no column\n",
    "a.shape"
   ]
  },
  {
   "cell_type": "code",
   "execution_count": 43,
   "id": "02d2cb5d",
   "metadata": {},
   "outputs": [
    {
     "name": "stdout",
     "output_type": "stream",
     "text": [
      "[[0 1 2 3 4 5 6 7 8 9]] \n",
      " [[0]\n",
      " [1]\n",
      " [2]\n",
      " [3]\n",
      " [4]\n",
      " [5]\n",
      " [6]\n",
      " [7]\n",
      " [8]\n",
      " [9]]\n"
     ]
    }
   ],
   "source": [
    "a2 = a[np.newaxis,:] # row vector\n",
    "a3 = a[:,np.newaxis] # column vector\n",
    "print(a2,\"\\n\",a3)"
   ]
  },
  {
   "cell_type": "markdown",
   "id": "45dcd440",
   "metadata": {},
   "source": [
    "### np.expand_dims():"
   ]
  },
  {
   "cell_type": "code",
   "execution_count": 47,
   "id": "b90a289e",
   "metadata": {},
   "outputs": [
    {
     "data": {
      "text/plain": [
       "array([0, 1, 2, 3, 4, 5, 6, 7, 8, 9])"
      ]
     },
     "execution_count": 47,
     "metadata": {},
     "output_type": "execute_result"
    }
   ],
   "source": [
    "a = np.arange(0,10)# it have 10 rows and no column\n",
    "a"
   ]
  },
  {
   "cell_type": "code",
   "execution_count": 48,
   "id": "67c0d70d",
   "metadata": {},
   "outputs": [
    {
     "data": {
      "text/plain": [
       "array([[0, 1, 2, 3, 4, 5, 6, 7, 8, 9]])"
      ]
     },
     "execution_count": 48,
     "metadata": {},
     "output_type": "execute_result"
    }
   ],
   "source": [
    "b = np.expand_dims(a,axis=0) # row vector\n",
    "b                          "
   ]
  },
  {
   "cell_type": "code",
   "execution_count": 49,
   "id": "e336b235",
   "metadata": {},
   "outputs": [
    {
     "data": {
      "text/plain": [
       "array([[0],\n",
       "       [1],\n",
       "       [2],\n",
       "       [3],\n",
       "       [4],\n",
       "       [5],\n",
       "       [6],\n",
       "       [7],\n",
       "       [8],\n",
       "       [9]])"
      ]
     },
     "execution_count": 49,
     "metadata": {},
     "output_type": "execute_result"
    }
   ],
   "source": [
    "b = np.expand_dims(a,axis=1) # column vector\n",
    "b"
   ]
  },
  {
   "cell_type": "markdown",
   "id": "ff141bf6",
   "metadata": {},
   "source": [
    "## INDEXING and SLICING:"
   ]
  },
  {
   "cell_type": "code",
   "execution_count": 53,
   "id": "34044f0f",
   "metadata": {},
   "outputs": [
    {
     "data": {
      "text/plain": [
       "array([1, 4])"
      ]
     },
     "execution_count": 53,
     "metadata": {},
     "output_type": "execute_result"
    }
   ],
   "source": [
    "array1 = np.array([1,4,2,8,3,6])\n",
    "array1[0]\n",
    "array1[-1]\n",
    "array1[2:]\n",
    "array1[:2]"
   ]
  },
  {
   "cell_type": "code",
   "execution_count": 54,
   "id": "6d5e479f",
   "metadata": {},
   "outputs": [
    {
     "name": "stdout",
     "output_type": "stream",
     "text": [
      "[5 6 7 8 9]\n"
     ]
    }
   ],
   "source": [
    "array1 = np.array([[1,2,3],[4,5,6],[7,8,9]])\n",
    "print(array1[array1>4])"
   ]
  },
  {
   "cell_type": "markdown",
   "id": "d03b5729",
   "metadata": {},
   "source": [
    "## How to create an array from existing data:"
   ]
  },
  {
   "cell_type": "markdown",
   "id": "5d6e97f7",
   "metadata": {},
   "source": [
    "### using slicing method:"
   ]
  },
  {
   "cell_type": "code",
   "execution_count": 55,
   "id": "f8588d8a",
   "metadata": {},
   "outputs": [
    {
     "data": {
      "text/plain": [
       "array([2, 4, 2, 5, 3, 2, 5, 7, 6])"
      ]
     },
     "execution_count": 55,
     "metadata": {},
     "output_type": "execute_result"
    }
   ],
   "source": [
    "array1 = np.array([1,3,2,4,2,5,3,2,5,7,6])\n",
    "# we can create new array from existing array using slicling\n",
    "\n",
    "array2 = array1[2:]\n",
    "array2"
   ]
  },
  {
   "cell_type": "markdown",
   "id": "cce90626",
   "metadata": {},
   "source": [
    "### using stack arrays method:"
   ]
  },
  {
   "cell_type": "code",
   "execution_count": null,
   "id": "f694fa62",
   "metadata": {},
   "outputs": [],
   "source": [
    "# we can creating new array by stacking two or more existing arrays:\n",
    "\n",
    "array1=np.array([[1,2,3],\n",
    "                 [4,5,6]])\n",
    "array2=np.array([[7,8,9],\n",
    "              [10,11,12]])"
   ]
  },
  {
   "cell_type": "code",
   "execution_count": 71,
   "id": "a1b42a91",
   "metadata": {},
   "outputs": [
    {
     "data": {
      "text/plain": [
       "array([[ 1,  2,  3],\n",
       "       [ 4,  5,  6],\n",
       "       [ 7,  8,  9],\n",
       "       [10, 11, 12]])"
      ]
     },
     "execution_count": 71,
     "metadata": {},
     "output_type": "execute_result"
    }
   ],
   "source": [
    "np.vstack((array1,array2)) # stacked vertically"
   ]
  },
  {
   "cell_type": "code",
   "execution_count": 72,
   "id": "155a7d81",
   "metadata": {},
   "outputs": [
    {
     "data": {
      "text/plain": [
       "array([[ 1,  2,  3,  7,  8,  9],\n",
       "       [ 4,  5,  6, 10, 11, 12]])"
      ]
     },
     "execution_count": 72,
     "metadata": {},
     "output_type": "execute_result"
    }
   ],
   "source": [
    "np.hstack((array1,array2)) # stacked horizontally"
   ]
  },
  {
   "cell_type": "markdown",
   "id": "0d09b1db",
   "metadata": {},
   "source": [
    "### using split array method:"
   ]
  },
  {
   "cell_type": "code",
   "execution_count": 74,
   "id": "9adf65da",
   "metadata": {},
   "outputs": [
    {
     "data": {
      "text/plain": [
       "array([[ 1,  2,  3,  4,  5,  6,  7,  8],\n",
       "       [ 9, 10, 11, 12, 13, 14, 15, 16],\n",
       "       [17, 18, 19, 20, 21, 22, 23, 24],\n",
       "       [25, 26, 27, 28, 29, 30, 31, 32],\n",
       "       [33, 34, 35, 36, 37, 38, 39, 40],\n",
       "       [41, 42, 43, 44, 45, 46, 47, 48],\n",
       "       [49, 50, 51, 52, 53, 54, 55, 56],\n",
       "       [57, 58, 59, 60, 61, 62, 63, 64]])"
      ]
     },
     "execution_count": 74,
     "metadata": {},
     "output_type": "execute_result"
    }
   ],
   "source": [
    "a = np.arange(1,65).reshape(8,8)\n",
    "a"
   ]
  },
  {
   "cell_type": "code",
   "execution_count": 75,
   "id": "0e821d22",
   "metadata": {},
   "outputs": [
    {
     "data": {
      "text/plain": [
       "[array([[ 1,  2],\n",
       "        [ 9, 10],\n",
       "        [17, 18],\n",
       "        [25, 26],\n",
       "        [33, 34],\n",
       "        [41, 42],\n",
       "        [49, 50],\n",
       "        [57, 58]]),\n",
       " array([[ 3,  4],\n",
       "        [11, 12],\n",
       "        [19, 20],\n",
       "        [27, 28],\n",
       "        [35, 36],\n",
       "        [43, 44],\n",
       "        [51, 52],\n",
       "        [59, 60]]),\n",
       " array([[ 5,  6],\n",
       "        [13, 14],\n",
       "        [21, 22],\n",
       "        [29, 30],\n",
       "        [37, 38],\n",
       "        [45, 46],\n",
       "        [53, 54],\n",
       "        [61, 62]]),\n",
       " array([[ 7,  8],\n",
       "        [15, 16],\n",
       "        [23, 24],\n",
       "        [31, 32],\n",
       "        [39, 40],\n",
       "        [47, 48],\n",
       "        [55, 56],\n",
       "        [63, 64]])]"
      ]
     },
     "execution_count": 75,
     "metadata": {},
     "output_type": "execute_result"
    }
   ],
   "source": [
    "h= np.hsplit(a,4)#splits an array horizontally in 4 arrays\n",
    "h"
   ]
  },
  {
   "cell_type": "code",
   "execution_count": 76,
   "id": "9df349e3",
   "metadata": {},
   "outputs": [
    {
     "data": {
      "text/plain": [
       "[array([[ 1,  2,  3,  4,  5,  6,  7,  8],\n",
       "        [ 9, 10, 11, 12, 13, 14, 15, 16]]),\n",
       " array([[17, 18, 19, 20, 21, 22, 23, 24],\n",
       "        [25, 26, 27, 28, 29, 30, 31, 32]]),\n",
       " array([[33, 34, 35, 36, 37, 38, 39, 40],\n",
       "        [41, 42, 43, 44, 45, 46, 47, 48]]),\n",
       " array([[49, 50, 51, 52, 53, 54, 55, 56],\n",
       "        [57, 58, 59, 60, 61, 62, 63, 64]])]"
      ]
     },
     "execution_count": 76,
     "metadata": {},
     "output_type": "execute_result"
    }
   ],
   "source": [
    "v= np.vsplit(a,4)#splits an array vertically in 4 arrays\n",
    "v"
   ]
  },
  {
   "cell_type": "code",
   "execution_count": null,
   "id": "9870badb",
   "metadata": {},
   "outputs": [],
   "source": []
  }
 ],
 "metadata": {
  "kernelspec": {
   "display_name": "Python 3 (ipykernel)",
   "language": "python",
   "name": "python3"
  },
  "language_info": {
   "codemirror_mode": {
    "name": "ipython",
    "version": 3
   },
   "file_extension": ".py",
   "mimetype": "text/x-python",
   "name": "python",
   "nbconvert_exporter": "python",
   "pygments_lexer": "ipython3",
   "version": "3.9.12"
  }
 },
 "nbformat": 4,
 "nbformat_minor": 5
}
