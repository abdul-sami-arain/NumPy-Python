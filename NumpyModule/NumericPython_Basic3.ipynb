{
 "cells": [
  {
   "cell_type": "code",
   "execution_count": 3,
   "id": "05f83785",
   "metadata": {},
   "outputs": [],
   "source": [
    "import numpy as np"
   ]
  },
  {
   "cell_type": "code",
   "execution_count": 6,
   "id": "7f16ec43",
   "metadata": {},
   "outputs": [
    {
     "data": {
      "text/plain": [
       "array([1. , 1.5])"
      ]
     },
     "execution_count": 6,
     "metadata": {},
     "output_type": "execute_result"
    }
   ],
   "source": [
    "##                 start end difference\n",
    "array1 = np.arange(1,2,0.5)\n",
    "array1"
   ]
  },
  {
   "cell_type": "code",
   "execution_count": 7,
   "id": "7dc63423",
   "metadata": {},
   "outputs": [
    {
     "data": {
      "text/plain": [
       "array([1.  , 1.25, 1.5 , 1.75, 2.  ])"
      ]
     },
     "execution_count": 7,
     "metadata": {},
     "output_type": "execute_result"
    }
   ],
   "source": [
    "##                  start end number_of_items_with_equal_difference\n",
    "array1 = np.linspace(1,2,5)\n",
    "array1"
   ]
  },
  {
   "cell_type": "code",
   "execution_count": 8,
   "id": "03b1599c",
   "metadata": {},
   "outputs": [
    {
     "data": {
      "text/plain": [
       "array([ 1,  2,  3,  4,  5,  6,  7,  8,  9, 10, 11, 12, 13, 14, 15, 16, 17,\n",
       "       18, 19])"
      ]
     },
     "execution_count": 8,
     "metadata": {},
     "output_type": "execute_result"
    }
   ],
   "source": [
    "array1 = np.arange(1,20)\n",
    "array1"
   ]
  },
  {
   "cell_type": "code",
   "execution_count": 9,
   "id": "560abd59",
   "metadata": {},
   "outputs": [
    {
     "data": {
      "text/plain": [
       "array([ 2,  3,  4,  5,  6,  7,  8,  9, 10, 11, 12, 13, 14, 15, 16, 17, 18,\n",
       "       19])"
      ]
     },
     "execution_count": 9,
     "metadata": {},
     "output_type": "execute_result"
    }
   ],
   "source": [
    "array1[1:]"
   ]
  },
  {
   "cell_type": "code",
   "execution_count": 17,
   "id": "3c43d5be",
   "metadata": {},
   "outputs": [
    {
     "data": {
      "text/plain": [
       "array([1, 3, 5])"
      ]
     },
     "execution_count": 17,
     "metadata": {},
     "output_type": "execute_result"
    }
   ],
   "source": [
    "array1[:6:2]  # [start end step]"
   ]
  },
  {
   "cell_type": "code",
   "execution_count": 19,
   "id": "d5767485",
   "metadata": {},
   "outputs": [
    {
     "data": {
      "text/plain": [
       "array([19, 18, 17, 16, 15, 14, 13, 12, 11, 10,  9,  8,  7,  6,  5,  4,  3,\n",
       "        2,  1])"
      ]
     },
     "execution_count": 19,
     "metadata": {},
     "output_type": "execute_result"
    }
   ],
   "source": [
    "array1[::-1]"
   ]
  },
  {
   "cell_type": "markdown",
   "id": "33550d06",
   "metadata": {},
   "source": [
    "## Multi dim array slicing:"
   ]
  },
  {
   "cell_type": "markdown",
   "id": "287d9db5",
   "metadata": {},
   "source": [
    "### 2D ARRAY:"
   ]
  },
  {
   "cell_type": "code",
   "execution_count": 34,
   "id": "732d1454",
   "metadata": {},
   "outputs": [],
   "source": [
    "array2 = np.array([\n",
    "    [1,2,3],\n",
    "    [4,5,6],\n",
    "    [7,8,9]\n",
    "])\n"
   ]
  },
  {
   "cell_type": "code",
   "execution_count": 23,
   "id": "ce56c4cd",
   "metadata": {},
   "outputs": [
    {
     "data": {
      "text/plain": [
       "3"
      ]
     },
     "execution_count": 23,
     "metadata": {},
     "output_type": "execute_result"
    }
   ],
   "source": [
    "array2[0][2]"
   ]
  },
  {
   "cell_type": "code",
   "execution_count": 24,
   "id": "c39b2fd7",
   "metadata": {},
   "outputs": [
    {
     "data": {
      "text/plain": [
       "3"
      ]
     },
     "execution_count": 24,
     "metadata": {},
     "output_type": "execute_result"
    }
   ],
   "source": [
    "array2[0,2]"
   ]
  },
  {
   "cell_type": "code",
   "execution_count": 27,
   "id": "3dce2513",
   "metadata": {},
   "outputs": [
    {
     "data": {
      "text/plain": [
       "array([3, 6, 9])"
      ]
     },
     "execution_count": 27,
     "metadata": {},
     "output_type": "execute_result"
    }
   ],
   "source": [
    "array2[0:3,2] # each row in the 3rd column"
   ]
  },
  {
   "cell_type": "code",
   "execution_count": 29,
   "id": "615de16c",
   "metadata": {},
   "outputs": [
    {
     "data": {
      "text/plain": [
       "array([4, 5, 6])"
      ]
     },
     "execution_count": 29,
     "metadata": {},
     "output_type": "execute_result"
    }
   ],
   "source": [
    "array2[1,0:3] # ecah column in the 2nd row"
   ]
  },
  {
   "cell_type": "code",
   "execution_count": 31,
   "id": "bc95b1d1",
   "metadata": {},
   "outputs": [
    {
     "data": {
      "text/plain": [
       "array([[4, 5, 6],\n",
       "       [7, 8, 9]])"
      ]
     },
     "execution_count": 31,
     "metadata": {},
     "output_type": "execute_result"
    }
   ],
   "source": [
    "array2[1:3,:] # 2nd and 3rd row each column"
   ]
  },
  {
   "cell_type": "code",
   "execution_count": 33,
   "id": "e4eb6e42",
   "metadata": {},
   "outputs": [
    {
     "data": {
      "text/plain": [
       "array([4, 5, 6])"
      ]
     },
     "execution_count": 33,
     "metadata": {},
     "output_type": "execute_result"
    }
   ],
   "source": [
    "array2[1,:] # 2nd row each column"
   ]
  },
  {
   "cell_type": "markdown",
   "id": "9bb636b6",
   "metadata": {},
   "source": [
    "### 3D ARRAY:"
   ]
  },
  {
   "cell_type": "code",
   "execution_count": 43,
   "id": "a668a2e8",
   "metadata": {},
   "outputs": [
    {
     "data": {
      "text/plain": [
       "array([[[ 1,  2,  3],\n",
       "        [ 4,  5,  6],\n",
       "        [ 7,  8,  9]],\n",
       "\n",
       "       [[10, 11, 12],\n",
       "        [13, 14, 15],\n",
       "        [16, 17, 18]],\n",
       "\n",
       "       [[19, 20, 21],\n",
       "        [22, 23, 24],\n",
       "        [25, 26, 27]]])"
      ]
     },
     "execution_count": 43,
     "metadata": {},
     "output_type": "execute_result"
    }
   ],
   "source": [
    "array1 = np.arange(1,28)\n",
    "array2 = np.reshape(array1, newshape=(3,3,3),order='C')\n",
    "array2"
   ]
  },
  {
   "cell_type": "code",
   "execution_count": 44,
   "id": "4ca54876",
   "metadata": {},
   "outputs": [
    {
     "data": {
      "text/plain": [
       "1"
      ]
     },
     "execution_count": 44,
     "metadata": {},
     "output_type": "execute_result"
    }
   ],
   "source": [
    "array2[0][0][0]"
   ]
  },
  {
   "cell_type": "code",
   "execution_count": 46,
   "id": "22583409",
   "metadata": {},
   "outputs": [
    {
     "data": {
      "text/plain": [
       "array([[1, 2, 3],\n",
       "       [4, 5, 6],\n",
       "       [7, 8, 9]])"
      ]
     },
     "execution_count": 46,
     "metadata": {},
     "output_type": "execute_result"
    }
   ],
   "source": [
    "array2[0,:,:] "
   ]
  },
  {
   "cell_type": "code",
   "execution_count": 47,
   "id": "43b3b5a9",
   "metadata": {},
   "outputs": [
    {
     "data": {
      "text/plain": [
       "array([[1, 2, 3],\n",
       "       [4, 5, 6],\n",
       "       [7, 8, 9]])"
      ]
     },
     "execution_count": 47,
     "metadata": {},
     "output_type": "execute_result"
    }
   ],
   "source": [
    "array2[0]"
   ]
  },
  {
   "cell_type": "code",
   "execution_count": 53,
   "id": "e68a67e2",
   "metadata": {},
   "outputs": [
    {
     "data": {
      "text/plain": [
       "array([[1, 2, 3],\n",
       "       [4, 5, 6],\n",
       "       [7, 8, 9]])"
      ]
     },
     "execution_count": 53,
     "metadata": {},
     "output_type": "execute_result"
    }
   ],
   "source": [
    "array2[0,...] # 1st row all y & z values"
   ]
  },
  {
   "cell_type": "code",
   "execution_count": 52,
   "id": "6fc02ee0",
   "metadata": {},
   "outputs": [
    {
     "data": {
      "text/plain": [
       "array([[ 2,  5,  8],\n",
       "       [11, 14, 17],\n",
       "       [20, 23, 26]])"
      ]
     },
     "execution_count": 52,
     "metadata": {},
     "output_type": "execute_result"
    }
   ],
   "source": [
    "array2[...,1] # all x y x only 2nd columns"
   ]
  },
  {
   "cell_type": "code",
   "execution_count": 51,
   "id": "6ccbfa80",
   "metadata": {},
   "outputs": [
    {
     "data": {
      "text/plain": [
       "array([[10, 11, 12],\n",
       "       [13, 14, 15],\n",
       "       [16, 17, 18]])"
      ]
     },
     "execution_count": 51,
     "metadata": {},
     "output_type": "execute_result"
    }
   ],
   "source": [
    "array2[1,...] # second row's all y & z values"
   ]
  },
  {
   "cell_type": "code",
   "execution_count": 54,
   "id": "d7c5e326",
   "metadata": {},
   "outputs": [
    {
     "data": {
      "text/plain": [
       "array([[10, 11, 12],\n",
       "       [13, 14, 15],\n",
       "       [16, 17, 18]])"
      ]
     },
     "execution_count": 54,
     "metadata": {},
     "output_type": "execute_result"
    }
   ],
   "source": [
    "array2[1,:,:]"
   ]
  },
  {
   "cell_type": "code",
   "execution_count": 58,
   "id": "e1ee3d14",
   "metadata": {},
   "outputs": [
    {
     "data": {
      "text/plain": [
       "array([[[[ 1,  2,  3],\n",
       "         [ 4,  5,  6],\n",
       "         [ 7,  8,  9]],\n",
       "\n",
       "        [[10, 11, 12],\n",
       "         [13, 14, 15],\n",
       "         [16, 17, 18]],\n",
       "\n",
       "        [[19, 20, 21],\n",
       "         [22, 23, 24],\n",
       "         [25, 26, 27]]],\n",
       "\n",
       "\n",
       "       [[[28, 29, 30],\n",
       "         [31, 32, 33],\n",
       "         [34, 35, 36]],\n",
       "\n",
       "        [[37, 38, 39],\n",
       "         [40, 41, 42],\n",
       "         [43, 44, 45]],\n",
       "\n",
       "        [[46, 47, 48],\n",
       "         [49, 50, 51],\n",
       "         [52, 53, 54]]],\n",
       "\n",
       "\n",
       "       [[[55, 56, 57],\n",
       "         [58, 59, 60],\n",
       "         [61, 62, 63]],\n",
       "\n",
       "        [[64, 65, 66],\n",
       "         [67, 68, 69],\n",
       "         [70, 71, 72]],\n",
       "\n",
       "        [[73, 74, 75],\n",
       "         [76, 77, 78],\n",
       "         [79, 80, 81]]]])"
      ]
     },
     "execution_count": 58,
     "metadata": {},
     "output_type": "execute_result"
    }
   ],
   "source": [
    "arr = np.arange(1,82)\n",
    "array3 = np.reshape(arr,newshape=(3,3,3,3))\n",
    "array3"
   ]
  },
  {
   "cell_type": "code",
   "execution_count": 62,
   "id": "6685c56a",
   "metadata": {},
   "outputs": [
    {
     "data": {
      "text/plain": [
       "array([[[28, 29, 30],\n",
       "        [31, 32, 33],\n",
       "        [34, 35, 36]],\n",
       "\n",
       "       [[37, 38, 39],\n",
       "        [40, 41, 42],\n",
       "        [43, 44, 45]],\n",
       "\n",
       "       [[46, 47, 48],\n",
       "        [49, 50, 51],\n",
       "        [52, 53, 54]]])"
      ]
     },
     "execution_count": 62,
     "metadata": {},
     "output_type": "execute_result"
    }
   ],
   "source": [
    "array3[1,...]  # is equivalent to array3[1,:,:,:]"
   ]
  },
  {
   "cell_type": "markdown",
   "id": "f2cd58b9",
   "metadata": {},
   "source": [
    "\n"
   ]
  },
  {
   "cell_type": "code",
   "execution_count": null,
   "id": "2269d9f2",
   "metadata": {},
   "outputs": [],
   "source": []
  },
  {
   "cell_type": "code",
   "execution_count": 65,
   "id": "4ff23eac",
   "metadata": {},
   "outputs": [
    {
     "name": "stdout",
     "output_type": "stream",
     "text": [
      "[[19 20 21]\n",
      " [22 23 24]\n",
      " [25 26 27]]\n",
      "[[46 47 48]\n",
      " [49 50 51]\n",
      " [52 53 54]]\n",
      "[[73 74 75]\n",
      " [76 77 78]\n",
      " [79 80 81]]\n"
     ]
    }
   ],
   "source": [
    "for row in array3:\n",
    "    print(row[2])"
   ]
  },
  {
   "cell_type": "markdown",
   "id": "5f12757b",
   "metadata": {},
   "source": [
    "## Conversion of String to Numeric:"
   ]
  },
  {
   "cell_type": "code",
   "execution_count": 13,
   "id": "d47924fc",
   "metadata": {},
   "outputs": [],
   "source": [
    "from io import StringIO"
   ]
  },
  {
   "cell_type": "code",
   "execution_count": 17,
   "id": "d5f27618",
   "metadata": {},
   "outputs": [
    {
     "data": {
      "text/plain": [
       "array([[ 1.,  2.,  3.,  4.,  5.,  6.],\n",
       "       [ 7.,  8.,  9., 10., 11., 12.],\n",
       "       [13., 14., 15., 16., 17., 18.]])"
      ]
     },
     "execution_count": 17,
     "metadata": {},
     "output_type": "execute_result"
    }
   ],
   "source": [
    "data = u\"1, 2, 3, 4, 5, 6\\n7, 8, 9, 10, 11, 12\\n13, 14, 15, 16 ,17 ,18\"\n",
    "np.genfromtxt(StringIO(data), delimiter=\",\")"
   ]
  },
  {
   "cell_type": "markdown",
   "id": "3ed6045b",
   "metadata": {},
   "source": [
    "## Random Number:"
   ]
  },
  {
   "cell_type": "code",
   "execution_count": 18,
   "id": "5c352933",
   "metadata": {},
   "outputs": [
    {
     "data": {
      "text/plain": [
       "array([[[0.49913921, 0.03623841, 0.68763972],\n",
       "        [0.90614616, 0.78542624, 0.23996363],\n",
       "        [0.04741028, 0.15908088, 0.00884478]],\n",
       "\n",
       "       [[0.74800734, 0.61790448, 0.0732708 ],\n",
       "        [0.19327683, 0.859272  , 0.79267063],\n",
       "        [0.21960363, 0.00349043, 0.8112839 ]],\n",
       "\n",
       "       [[0.36438467, 0.68866386, 0.21275378],\n",
       "        [0.60013081, 0.11466405, 0.36099348],\n",
       "        [0.45443006, 0.17361512, 0.57308156]]])"
      ]
     },
     "execution_count": 18,
     "metadata": {},
     "output_type": "execute_result"
    }
   ],
   "source": [
    "array1 = np.random.rand(3,3,3)  # generate random number between 0 and 1"
   ]
  },
  {
   "cell_type": "code",
   "execution_count": 23,
   "id": "4a14e149",
   "metadata": {},
   "outputs": [
    {
     "data": {
      "text/plain": [
       "array([53, 71, 21, 92, 74, 80, 85, 31, 67, 79])"
      ]
     },
     "execution_count": 23,
     "metadata": {},
     "output_type": "execute_result"
    }
   ],
   "source": [
    "array2 = np.random.randint(10,100,10) #(lowest number , highest num(optional) , size , dtype) generate integer random number \n",
    "array2 "
   ]
  },
  {
   "cell_type": "markdown",
   "id": "1a9b48e4",
   "metadata": {},
   "source": [
    "## Boolean Operations:\n",
    "- **in1d** <br>\n",
    "- **intersect1d** <br>\n",
    "- **isin** <br>\n",
    "- **setdiff1d** <br>\n",
    "- **setxor1d** <br>\n",
    "- **union1d** <br>"
   ]
  },
  {
   "cell_type": "code",
   "execution_count": 32,
   "id": "392d56cf",
   "metadata": {},
   "outputs": [
    {
     "name": "stdout",
     "output_type": "stream",
     "text": [
      "These tickets are present in our dataset:\n",
      "330911.0\n",
      "240276.0\n",
      "7538.0\n",
      "330972.0\n",
      "248738.0\n"
     ]
    },
    {
     "name": "stderr",
     "output_type": "stream",
     "text": [
      "C:\\Users\\Windows\\AppData\\Local\\Temp\\ipykernel_11092\\469691678.py:8: FutureWarning: Using a non-tuple sequence for multidimensional indexing is deprecated; use `arr[tuple(seq)]` instead of `arr[seq]`. In the future this will be interpreted as an array index, `arr[np.array(seq)]`, which will result either in an error or a different result.\n",
      "  available = tickets[[np.in1d(tickets,govtickets)]]\n"
     ]
    }
   ],
   "source": [
    "# Tickets id's in our system:\n",
    "ticketsData = \"330911,363272,240276,315154,3101298,7538,330972,248738,2657\"\n",
    "tickets = np.genfromtxt(StringIO(ticketsData),delimiter=\",\")\n",
    "#Tickets id's given by Gov to check either they are in our system or not\n",
    "GovticketsData =\"330911,575368,240276,567546,2344567,7538,330972,248738,986868\"\n",
    "govtickets = np.genfromtxt(StringIO(GovticketsData),delimiter=\",\")\n",
    "\n",
    "available = tickets[[np.in1d(tickets,govtickets)]]\n",
    "print(\"These tickets are present in our dataset:\")\n",
    "for i in available:\n",
    "    print(i)"
   ]
  },
  {
   "cell_type": "code",
   "execution_count": 33,
   "id": "a848532a",
   "metadata": {},
   "outputs": [
    {
     "data": {
      "text/plain": [
       "array([  7538., 240276., 248738., 330911., 330972.])"
      ]
     },
     "execution_count": 33,
     "metadata": {},
     "output_type": "execute_result"
    }
   ],
   "source": [
    "tickets = np.genfromtxt(StringIO(ticketsData),delimiter=\",\")\n",
    "govtickets = np.genfromtxt(StringIO(GovticketsData),delimiter=\",\")\n",
    "\n",
    "available = np.intersect1d(tickets,govtickets)\n",
    "available"
   ]
  },
  {
   "cell_type": "code",
   "execution_count": 35,
   "id": "da85a527",
   "metadata": {},
   "outputs": [
    {
     "data": {
      "text/plain": [
       "array([330911., 240276.,   7538., 330972., 248738.])"
      ]
     },
     "execution_count": 35,
     "metadata": {},
     "output_type": "execute_result"
    }
   ],
   "source": [
    "tickets = np.genfromtxt(StringIO(ticketsData),delimiter=\",\")\n",
    "govtickets = np.genfromtxt(StringIO(GovticketsData),delimiter=\",\")\n",
    "\n",
    "available = np.isin(tickets,govtickets)\n",
    "tickets[available]"
   ]
  },
  {
   "cell_type": "code",
   "execution_count": 37,
   "id": "973ef3d5",
   "metadata": {},
   "outputs": [
    {
     "data": {
      "text/plain": [
       "array([2.657000e+03, 3.151540e+05, 3.632720e+05, 3.101298e+06])"
      ]
     },
     "execution_count": 37,
     "metadata": {},
     "output_type": "execute_result"
    }
   ],
   "source": [
    "tickets = np.genfromtxt(StringIO(ticketsData),delimiter=\",\")\n",
    "govtickets = np.genfromtxt(StringIO(GovticketsData),delimiter=\",\")\n",
    "\n",
    "available = np.setdiff1d(tickets,govtickets) \n",
    "available"
   ]
  },
  {
   "cell_type": "code",
   "execution_count": 38,
   "id": "569534c4",
   "metadata": {},
   "outputs": [
    {
     "data": {
      "text/plain": [
       "array([2.657000e+03, 3.151540e+05, 3.632720e+05, 5.675460e+05,\n",
       "       5.753680e+05, 9.868680e+05, 2.344567e+06, 3.101298e+06])"
      ]
     },
     "execution_count": 38,
     "metadata": {},
     "output_type": "execute_result"
    }
   ],
   "source": [
    "tickets = np.genfromtxt(StringIO(ticketsData),delimiter=\",\")\n",
    "govtickets = np.genfromtxt(StringIO(GovticketsData),delimiter=\",\")\n",
    "\n",
    "available = np.setxor1d(tickets,govtickets)\n",
    "available"
   ]
  },
  {
   "cell_type": "code",
   "execution_count": 40,
   "id": "97ed34c2",
   "metadata": {},
   "outputs": [
    {
     "data": {
      "text/plain": [
       "array([2.657000e+03, 7.538000e+03, 2.402760e+05, 2.487380e+05,\n",
       "       3.151540e+05, 3.309110e+05, 3.309720e+05, 3.632720e+05,\n",
       "       5.675460e+05, 5.753680e+05, 9.868680e+05, 2.344567e+06,\n",
       "       3.101298e+06])"
      ]
     },
     "execution_count": 40,
     "metadata": {},
     "output_type": "execute_result"
    }
   ],
   "source": [
    "tickets = np.genfromtxt(StringIO(ticketsData),delimiter=\",\")\n",
    "govtickets = np.genfromtxt(StringIO(GovticketsData),delimiter=\",\")\n",
    "\n",
    "available = np.union1d(tickets,govtickets)\n",
    "available"
   ]
  },
  {
   "cell_type": "code",
   "execution_count": null,
   "id": "2b9453da",
   "metadata": {},
   "outputs": [],
   "source": []
  }
 ],
 "metadata": {
  "kernelspec": {
   "display_name": "Python 3 (ipykernel)",
   "language": "python",
   "name": "python3"
  },
  "language_info": {
   "codemirror_mode": {
    "name": "ipython",
    "version": 3
   },
   "file_extension": ".py",
   "mimetype": "text/x-python",
   "name": "python",
   "nbconvert_exporter": "python",
   "pygments_lexer": "ipython3",
   "version": "3.9.12"
  }
 },
 "nbformat": 4,
 "nbformat_minor": 5
}
